{
  "nbformat": 4,
  "nbformat_minor": 0,
  "metadata": {
    "colab": {
      "name": "batch3-tasi.ipynb",
      "version": "0.3.2",
      "provenance": [],
      "collapsed_sections": [],
      "toc_visible": true,
      "include_colab_link": true
    },
    "kernelspec": {
      "name": "python3",
      "display_name": "Python 3"
    },
    "accelerator": "GPU"
  },
  "cells": [
    {
      "cell_type": "markdown",
      "metadata": {
        "id": "view-in-github",
        "colab_type": "text"
      },
      "source": [
        "<a href=\"https://colab.research.google.com/github/leoUninova/Transistor-altair-plots/blob/master/batch3_tasi.ipynb\" target=\"_parent\"><img src=\"https://colab.research.google.com/assets/colab-badge.svg\" alt=\"Open In Colab\"/></a>"
      ]
    },
    {
      "cell_type": "markdown",
      "metadata": {
        "id": "hKZZRFcDCFxy",
        "colab_type": "text"
      },
      "source": [
        "#useful links importing google sheets: \n",
        "* https://colab.research.google.com/notebooks/io.ipynb#scrollTo=JiJVCmu3dhFa\n",
        "\n",
        "* http://www.indjango.com/access-google-sheets-in-python-using-gspread/\n",
        "* https://medium.com/@vince.shields913/reading-google-sheets-into-a-pandas-dataframe-with-gspread-and-oauth2-375b932be7bf read withe the right headers\n"
      ]
    },
    {
      "cell_type": "code",
      "metadata": {
        "id": "gOfsyd6A5ww4",
        "colab_type": "code",
        "outputId": "9f5c148a-135b-4f50-8a23-8b919d545d36",
        "cellView": "form",
        "colab": {
          "base_uri": "https://localhost:8080/",
          "height": 54
        }
      },
      "source": [
        "#@title Drive setup / change directory\n",
        "from google.colab import drive\n",
        "drive.mount('/content/gdrive')\n",
        "\n",
        "#change directory\n",
        "import os \n",
        "os.getcwd()\n",
        "os.chdir('/content/gdrive/My Drive/')\n"
      ],
      "execution_count": 105,
      "outputs": [
        {
          "output_type": "stream",
          "text": [
            "Drive already mounted at /content/gdrive; to attempt to forcibly remount, call drive.mount(\"/content/gdrive\", force_remount=True).\n"
          ],
          "name": "stdout"
        }
      ]
    },
    {
      "cell_type": "code",
      "metadata": {
        "id": "8vvOb4uBsrG9",
        "colab_type": "code",
        "colab": {},
        "cellView": "form"
      },
      "source": [
        "#@title Display tables and sheet list functions \n",
        "def sheet_list(name): \n",
        "  listOfdf=[]\n",
        "  listOfStr=[]\n",
        "  sh = gc.open(name)\n",
        "  for i in range (len(sh.worksheets())):\n",
        "    worksheet=sh.get_worksheet(i)\n",
        "    rows = worksheet.get_all_values()\n",
        "    headers = rows.pop(0)\n",
        "    df = pd.DataFrame(rows, columns=headers)\n",
        "    listOfdf.append(df)\n",
        "    listOfStr.append(sh.get_worksheet(i).title)\n",
        "  zipbObj = zip(listOfStr, listOfdf)\n",
        "  dictOfWords = dict(zipbObj)\n",
        "  return dictOfWords\n",
        "\n",
        "def DisplayTables(dfdict):\n",
        "  tb = widgets.TabBar(list(dfdict.keys()))\n",
        "  for i, values in enumerate (dfdict.values()):\n",
        "    with tb.output_to(i, select=(i < 1)):\n",
        "      display(values)\n",
        "  \n"
      ],
      "execution_count": 0,
      "outputs": []
    },
    {
      "cell_type": "code",
      "metadata": {
        "id": "A6Vh1eQh8pPU",
        "colab_type": "code",
        "cellView": "form",
        "colab": {}
      },
      "source": [
        "#@title authroize setup google sheets\n",
        "from google.colab import auth\n",
        "auth.authenticate_user()\n",
        "\n",
        "import gspread\n",
        "from oauth2client.client import GoogleCredentials\n",
        "\n",
        "gc = gspread.authorize(GoogleCredentials.get_application_default())"
      ],
      "execution_count": 0,
      "outputs": []
    },
    {
      "cell_type": "code",
      "metadata": {
        "id": "2zOVpTBHAFtY",
        "colab_type": "code",
        "cellView": "form",
        "colab": {}
      },
      "source": [
        "#@title import sheet, get titles of different sheets, create dictionray with dataframes\n",
        "#http://www.indjango.com/access-google-sheets-in-python-using-gspread/\n",
        "sh = gc.open(\"TASI BACTH\")\n",
        "worksheet_list = sh.worksheets()\n",
        "\n",
        "#create dictioanry with dataframe of sheets, keys are the names of the sheets \n",
        "tabledic=sheet_list(\"TASI BACTH\")\n",
        "\n"
      ],
      "execution_count": 0,
      "outputs": []
    },
    {
      "cell_type": "markdown",
      "metadata": {
        "id": "wV7OLoYf50_X",
        "colab_type": "text"
      },
      "source": [
        "#Ta-si batch\n",
        "\n",
        "12 transistors were fabricated. Varying: the thickness (150, 250) and the composition (Si-TA, Si-Ta-Si, Ta-Si) of the dielectric; and the Semiconductor annealing Temperature (180, 300). \n",
        "\n"
      ]
    },
    {
      "cell_type": "code",
      "metadata": {
        "id": "PuBWYZatIkoT",
        "colab_type": "code",
        "colab": {},
        "cellView": "form"
      },
      "source": [
        "#@title Intro sheet and overivew all tables { run: \"auto\", vertical-output: true }\n",
        "\n",
        "\n",
        "Show = False #@param {type:\"boolean\"}\n",
        "if Show:\n",
        "#   DIE3=tabledic['SD-development ']\n",
        "  DisplayTables(tabledic)\n"
      ],
      "execution_count": 0,
      "outputs": []
    },
    {
      "cell_type": "markdown",
      "metadata": {
        "id": "aqJGSzs_LyBd",
        "colab_type": "text"
      },
      "source": [
        "#Issues in Development process\n",
        "\n",
        "There were many developpment issues for most layers. \n",
        "The first issue in the Mo-G layer can be due to the lack of developper. \n",
        "\n"
      ]
    },
    {
      "cell_type": "markdown",
      "metadata": {
        "id": "oF5TZoBiMOox",
        "colab_type": "text"
      },
      "source": [
        "## MO-Gate Developpment\n",
        "\n",
        "The standard parameters followed previously are: \n",
        "\n",
        ">prebake (T, time) | exposure (type, time) | postbake (T, time)\n",
        ">--- | --- | --- \n",
        ">90, 60 | s, 6| 110, 60\n",
        "\n",
        "\n",
        "I developped the first sample with Ana. When usuccesfull,  she suggested inserting a  **preheat of (110, 60)**. \n",
        "The standard here for '\"good\" development was lowered due to big issues getting photoresist to come out. There is a large amount of photoresist that needs to come out every time, making the developper dirty fast. The **lack of developer** meant using low quality developper. \n",
        "\n",
        "Some samples were developed **without  preheating** and there was **no difference**. \n",
        "Ring-like shapes apppeared, probably due to using dirty developper or not enough of it. "
      ]
    },
    {
      "cell_type": "code",
      "metadata": {
        "id": "6A5FoNqNMZVn",
        "colab_type": "code",
        "cellView": "form",
        "colab": {}
      },
      "source": [
        "#@title MO-G Developpment { run: \"auto\" }  \n",
        "Show = False #@param {type:\"boolean\"}\n",
        "if Show:\n",
        "#   DIE3=tabledic['SD-development ']\n",
        "  DIE3={k: tabledic[k] for k in ( 'Mo-G-development', )}\n",
        "  DisplayTables(DIE3)"
      ],
      "execution_count": 0,
      "outputs": []
    },
    {
      "cell_type": "markdown",
      "metadata": {
        "id": "WIU2_1KPPrY4",
        "colab_type": "text"
      },
      "source": [
        "## Dielectric - development 250nm \n",
        "\n",
        "The standard parameters used in previous bacthes are: \n",
        "\n",
        ">prebake (T, time) | exposure (type, time) | postbake (T, time)\n",
        ">--- | --- | --- \n",
        ">90, 60 | s, 7| 110, 60\n",
        "\n",
        "I started off following what i had done in other batches **(no pre-heat)**. \n",
        "\n",
        "As for the gate, the bar for  \"good\" was low due to development issues in the previous weeks. The \"red line problem\" was identified  as photoresist coming out. This occured with development time so as low as 40 secondds. \n",
        "\n",
        "Since: \n",
        "*  Incrase exposure time --> increases differencce between exposed and unexposed--> shorted development time \n",
        "\n",
        "I decreased exposure **time to 6.5 seconds** closer to the range i had used other times. Porbably would have been better to incrase exposure time and decrease development time. \n",
        "\n",
        "\n",
        "Maria suggested this method: \n",
        "* Develop  until you see a glimpe of holes opening (light differences on pads) --> post heat sample \n"
      ]
    },
    {
      "cell_type": "code",
      "metadata": {
        "id": "11z-DdAjMmiX",
        "colab_type": "code",
        "cellView": "form",
        "colab": {}
      },
      "source": [
        "#@title DIE developmenet 250 nm table { run: \"auto\" }\n",
        "\n",
        "\n",
        "Show = False #@param {type:\"boolean\"}\n",
        "if Show:\n",
        "#   DIE3=tabledic['SD-development ']\n",
        "  DIE3={k: tabledic[k] for k in ( 'Die-development-250nm', )}\n",
        "  DisplayTables(DIE3)\n",
        " "
      ],
      "execution_count": 0,
      "outputs": []
    },
    {
      "cell_type": "markdown",
      "metadata": {
        "id": "lQ0IKXibgn7i",
        "colab_type": "text"
      },
      "source": [
        "## Dielectric - development 150nm "
      ]
    },
    {
      "cell_type": "code",
      "metadata": {
        "id": "mtufHV3dhQhj",
        "colab_type": "code",
        "colab": {},
        "cellView": "form"
      },
      "source": [
        "#@title DIE developmenet 150 nm table { run: \"auto\" }\n",
        "\n",
        "Show = False #@param {type:\"boolean\"}\n",
        "if Show:\n",
        "#   DIE3=tabledic['SD-development ']\n",
        "  DIE3={k: tabledic[k] for k in ( 'Die-development-150nm', )}\n",
        "  DisplayTables(DIE3)\n",
        " "
      ],
      "execution_count": 0,
      "outputs": []
    },
    {
      "cell_type": "markdown",
      "metadata": {
        "id": "Difh2AARkWR1",
        "colab_type": "text"
      },
      "source": [
        "##DIE development DAY 3 \n",
        "I evaluated which samples had been etched properely. Some samples were etched but not completely. Others i was unsure about. I decided to redo all the samples i was unsure about. \n",
        "Since **postbake** increases adhesion, Ana suggested removing it. Also **preheat** was removed.\n",
        "All the samples developed well, there were no issues throughout the development. This day was the first day in which **the room had better climate control. Perhaps the heat was affecting development.**"
      ]
    },
    {
      "cell_type": "code",
      "metadata": {
        "id": "Eke-LTENJxM-",
        "colab_type": "code",
        "colab": {},
        "cellView": "form"
      },
      "source": [
        "#@title DIE developmenet day 3: Evaluation and table { run: \"auto\" }\n",
        "Show = False #@param {type:\"boolean\"}\n",
        "\n",
        "#commented out since it is already in memory \n",
        "# tabledic=sheet_list(\"TASI BACTH\")\n",
        "\n",
        "if Show:\n",
        "  DIE3={k: tabledic[k] for k in ('Die-dev-day3-before-starting', 'Die-development-day3')}\n",
        "  DisplayTables(DIE3)\n",
        "\n"
      ],
      "execution_count": 0,
      "outputs": []
    },
    {
      "cell_type": "markdown",
      "metadata": {
        "id": "k389Nuq4mRgq",
        "colab_type": "text"
      },
      "source": [
        "## Semiconductor development\n",
        "The semiconductor was developed in **lift off**.  I used a different **photoresist** 3007 instead of 3012. There were no problems with the development. There were 0 issues after 6 developemnts, so i stopped taking notes. "
      ]
    },
    {
      "cell_type": "code",
      "metadata": {
        "id": "Q4365gN0j7zE",
        "colab_type": "code",
        "colab": {},
        "cellView": "form"
      },
      "source": [
        "#@title Semiconductor development: table { run: \"auto\" }\n",
        "\n",
        "Show = False #@param {type:\"boolean\"}\n",
        "if Show:\n",
        "#   DIE3=tabledic['SD-development ']\n",
        "  DIE3={k: tabledic[k] for k in ( 'dev semi', )}\n",
        "  DisplayTables(DIE3)\n",
        " "
      ],
      "execution_count": 0,
      "outputs": []
    },
    {
      "cell_type": "markdown",
      "metadata": {
        "id": "YYAggbsbqVNR",
        "colab_type": "text"
      },
      "source": [
        "## S-D Development \n",
        "Only 1 sample had to be re-developed.Varying the time of the development did not affect the results.  I used the **3012 photoresist**, indicating that it wasn't the photoresit the issue."
      ]
    },
    {
      "cell_type": "code",
      "metadata": {
        "id": "ntxQYEJmq6B4",
        "colab_type": "code",
        "colab": {},
        "cellView": "form"
      },
      "source": [
        "#@title SD-development : table { run: \"auto\" }\n",
        "\n",
        "\n",
        "Show = False #@param {type:\"boolean\"}\n",
        "\n",
        "if Show:\n",
        "#   DIE3=tabledic['SD-development ']\n",
        "  DIE3={k: tabledic[k] for k in ( 'SD-development ', )}\n",
        "  DisplayTables(DIE3)\n"
      ],
      "execution_count": 0,
      "outputs": []
    },
    {
      "cell_type": "markdown",
      "metadata": {
        "id": "eI8k2sWcbVaG",
        "colab_type": "text"
      },
      "source": [
        ""
      ]
    },
    {
      "cell_type": "markdown",
      "metadata": {
        "id": "AFzpvCEuba9K",
        "colab_type": "text"
      },
      "source": [
        "#Post heating Bubble formation.\n",
        "\n",
        "After the "
      ]
    },
    {
      "cell_type": "code",
      "metadata": {
        "id": "vsCb61D0m_oi",
        "colab_type": "code",
        "colab": {
          "base_uri": "https://localhost:8080/",
          "height": 629
        },
        "outputId": "a7ad685d-9557-4338-d833-0c2ca9ebe4bd"
      },
      "source": [
        "#@title main \n",
        "import os \n",
        "import glob\n",
        "os.chdir('/content/drive/My Drive/Images-microsope/seecond/')\n",
        "folders=next(os.walk('.'))[1] #https://stackoverflow.com/questions/973473/getting-a-list-of-all-subdirectories-in-the-current-directory\n",
        "\n",
        "\n",
        "os.chdir('/content/drive/My Drive/Images-microsope/seecond/' + folders[5])\n",
        "images_files= glob.glob('*.czi')\n",
        "\n",
        "\n",
        "\n",
        "\n",
        "def dataczi (files):\n",
        "  data=[]\n",
        "  for idx, file in enumerate(files):\n",
        "    with CziFile(file) as czi:\n",
        "        image_arrays = czi.asarray()\n",
        "\n",
        "    image_arrays.shape\n",
        "\n",
        "    # (1, 1920, 2560, 3)\n",
        "    # (1, 3, 1, 18, 1024, 1024, 1)\n",
        "    # image=image_arrays[0,0,0,]\n",
        "\n",
        "    # image\n",
        "    images=image_arrays[0]\n",
        "    data.append(images)\n",
        "  return data"
      ],
      "execution_count": 6,
      "outputs": [
        {
          "output_type": "execute_result",
          "data": {
            "text/plain": [
              "['1-die-photoresist.czi',\n",
              " '10-die-photoresist.czi',\n",
              " '11-die-etched.czi',\n",
              " '11-die-photoresist-2-long stains.czi',\n",
              " '11-die-photoresist-bad-2-lines again.czi',\n",
              " '11-die-photoresist-bad-3-lines again.czi',\n",
              " '11-die-photoresist-bad-4-lines again.czi',\n",
              " '11-die-photoresist-bad-4-underdevellopped.czi',\n",
              " '11-die-photoresist-bad.czi',\n",
              " '11-die-photoresist-good.czi',\n",
              " '12-die-etched.czi',\n",
              " '12-die-photo - second etch.czi',\n",
              " '12-die-photoresist-3.czi',\n",
              " '12-die-photoresist-bad-2.czi',\n",
              " '12-die-photoresist-bad.czi',\n",
              " '12-die-photoresist-okish.czi',\n",
              " '2-die-photoresist.czi',\n",
              " '3-die-etched.czi',\n",
              " '3-die-photoresist-good.czi',\n",
              " '4-die-etched.czi',\n",
              " '4-die-photoresist-red not open-2- differnt material differnt color.czi',\n",
              " '4-die-photoresist-red not open.czi',\n",
              " '5-die-etched.czi',\n",
              " '5-die-photoresist-good.czi',\n",
              " '6-die-etched.czi',\n",
              " '6-die-photo - second etch.czi',\n",
              " '6-die-photoresist-2-long stains.czi',\n",
              " '6-die-photoresist-3.czi',\n",
              " '6-die-photoresist.czi',\n",
              " '6-gate-5-2.czi',\n",
              " '7-die-photoresist.czi',\n",
              " '8-die-photo.czi',\n",
              " '9-die-photoresist.czi',\n",
              " '3-etched-day1(was good).czi',\n",
              " '4-etched-day1(was good).czi',\n",
              " '5-etched-day1(was good).czi']"
            ]
          },
          "metadata": {
            "tags": []
          },
          "execution_count": 6
        }
      ]
    },
    {
      "cell_type": "code",
      "metadata": {
        "id": "mQ5rK3lJnEYj",
        "colab_type": "code",
        "colab": {}
      },
      "source": [
        ""
      ],
      "execution_count": 0,
      "outputs": []
    }
  ]
}